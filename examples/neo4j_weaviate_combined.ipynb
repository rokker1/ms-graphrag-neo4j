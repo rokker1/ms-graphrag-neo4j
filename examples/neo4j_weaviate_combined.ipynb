{
  "nbformat": 4,
  "nbformat_minor": 0,
  "metadata": {
    "colab": {
      "provenance": [],
      "include_colab_link": true
    },
    "kernelspec": {
      "name": "python3",
      "display_name": "Python 3"
    },
    "language_info": {
      "name": "python"
    }
  },
  "cells": [
    {
      "cell_type": "markdown",
      "metadata": {
        "id": "view-in-github",
        "colab_type": "text"
      },
      "source": [
        "<a href=\"https://colab.research.google.com/github/neo4j-contrib/ms-graphrag-neo4j/blob/main/examples/neo4j_weaviate_combined.ipynb\" target=\"_parent\"><img src=\"https://colab.research.google.com/assets/colab-badge.svg\" alt=\"Open In Colab\"/></a>"
      ]
    },
    {
      "cell_type": "markdown",
      "source": [
        ">[Naive RAG vs GraphRAG with Neo4J & Weaviate](#scrollTo=n3QFDMrgAkCo)\n",
        "\n",
        ">>[Install Dependencies](#scrollTo=n3QFDMrgAkCo)\n",
        "\n",
        ">>[Write Documents to Weaviate Cloud](#scrollTo=nqwuGr0Xhgtm)\n",
        "\n",
        ">>[Classic RAG with OpenAI](#scrollTo=-uAAWPQXBUdX)\n",
        "\n",
        ">>[Graph RAG](#scrollTo=zzBnUF4bBYKG)\n",
        "\n",
        ">>>[Build a Graph with Neo4J](#scrollTo=zzBnUF4bBYKG)\n",
        "\n",
        ">>>[Extract Relevant Entities](#scrollTo=FVzpKJViBiJT)\n",
        "\n",
        ">>>[Summarize Nodes and Communities](#scrollTo=j1wAsUfIBrGc)\n",
        "\n",
        ">>>[Write the Entities to Weaviate](#scrollTo=n105cc-_B9bN)\n",
        "\n"
      ],
      "metadata": {
        "colab_type": "toc",
        "id": "GXFxB5p3CPfX"
      }
    },
    {
      "cell_type": "markdown",
      "source": [
        "# Naive RAG vs GraphRAG with Neo4J & Weaviate\n",
        "\n",
        "In this recipe, we will be walking through 2 ways of doing RAG:\n",
        "\n",
        "1. Classic RAG where we do simple vector search, followed be answer generation based on this context\n",
        "2. Graph RAG, making use of both vector search, combined by a graph representation of our dataset including community and node summaries\n",
        "\n",
        "For this example, we will be using a generated dataset called \"Financial Contracts\", that lists (fake) contracts sugned between individuals and companies.\n",
        "\n",
        "## Install Dependencies"
      ],
      "metadata": {
        "id": "n3QFDMrgAkCo"
      }
    },
    {
      "cell_type": "code",
      "source": [
        "!pip install --quiet --upgrade git+https://github.com/neo4j-contrib/ms-graphrag-neo4j.git datasets weaviate-client neo4j-graphrag"
      ],
      "metadata": {
        "id": "Wahz0DAFT4p7"
      },
      "execution_count": null,
      "outputs": []
    },
    {
      "cell_type": "markdown",
      "source": [
        "## Write Documents to Weaviate Cloud\n",
        "\n",
        "To get started, you can use a free Weaviate Sandbox.\n",
        "\n",
        "1. Create a cluster\n",
        "2. Take note of the cluster URL and API key\n",
        "3. Go to 'Embeddings' and turn it on."
      ],
      "metadata": {
        "id": "nqwuGr0Xhgtm"
      }
    },
    {
      "cell_type": "code",
      "source": [
        "import os\n",
        "from getpass import getpass\n",
        "\n",
        "if \"WEAVIATE_API_KEY\" not in os.environ:\n",
        "  os.environ[\"WEAVIATE_API_KEY\"] = getpass(\"Weaviate API Key\")\n",
        "if \"WEAVIATE_URL\" not in os.environ:\n",
        "  os.environ[\"WEAVIATE_URL\"] = getpass(\"Weaviate URL\")"
      ],
      "metadata": {
        "id": "chKCzqNS8CvX"
      },
      "execution_count": null,
      "outputs": []
    },
    {
      "cell_type": "code",
      "source": [
        "import weaviate\n",
        "from weaviate.auth import Auth\n",
        "\n",
        "client = weaviate.connect_to_weaviate_cloud(\n",
        "    cluster_url=os.environ.get(\"WEAVIATE_URL\"),\n",
        "    auth_credentials=Auth.api_key(os.environ.get(\"WEAVIATE_API_KEY\")),\n",
        ")"
      ],
      "metadata": {
        "id": "o5opqllkhzm6"
      },
      "execution_count": 4,
      "outputs": []
    },
    {
      "cell_type": "code",
      "source": [
        "from weaviate.classes.config import Configure\n",
        "\n",
        "#client.collections.delete(\"Financial_contracts\")\n",
        "client.collections.create(\n",
        "    \"Financial_contracts\",\n",
        "    description=\"A dataset of financial contracts between indivicuals and/or companies, as well as information on the type of contract and who has authored them.\",\n",
        "    vectorizer_config=Configure.Vectorizer.text2vec_weaviate(),\n",
        ")"
      ],
      "metadata": {
        "id": "0ZzBFSLah2QQ"
      },
      "execution_count": null,
      "outputs": []
    },
    {
      "cell_type": "code",
      "source": [
        "from datasets import load_dataset\n",
        "\n",
        "financial_dataset = load_dataset(\"weaviate/agents\", \"query-agent-financial-contracts\", split=\"train\", streaming=True)"
      ],
      "metadata": {
        "id": "KChqfZu8pTZP"
      },
      "execution_count": null,
      "outputs": []
    },
    {
      "cell_type": "code",
      "source": [
        "financial_collection = client.collections.get(\"Financial_contracts\")\n",
        "\n",
        "with financial_collection.batch.dynamic() as batch:\n",
        "    for item in financial_dataset:\n",
        "        batch.add_object(properties=item[\"properties\"])"
      ],
      "metadata": {
        "id": "sigF9C03iBki"
      },
      "execution_count": 7,
      "outputs": []
    },
    {
      "cell_type": "markdown",
      "source": [
        "## Classic RAG with OpenAI"
      ],
      "metadata": {
        "id": "-uAAWPQXBUdX"
      }
    },
    {
      "cell_type": "code",
      "source": [
        "os.environ[\"OPENAI_API_KEY\"]= getpass(\"Openai API Key:\")"
      ],
      "metadata": {
        "id": "XOdJPeg9U_sl"
      },
      "execution_count": null,
      "outputs": []
    },
    {
      "cell_type": "code",
      "source": [
        "from openai import AsyncOpenAI\n",
        "\n",
        "openai_client = AsyncOpenAI()\n",
        "\n",
        "async def achat(messages, model=\"gpt-4o\", temperature=0, config={}):\n",
        "    response = await openai_client.chat.completions.create(\n",
        "        model=model,\n",
        "        temperature=temperature,\n",
        "        messages=messages,\n",
        "        **config,\n",
        "    )\n",
        "    return response.choices[0].message.content"
      ],
      "metadata": {
        "id": "WtoZ2oCIwpRL"
      },
      "execution_count": 10,
      "outputs": []
    },
    {
      "cell_type": "code",
      "source": [
        "async def classic_rag(input: str) -> str:\n",
        "    context = [str(obj.properties) for obj in financial_collection.query.near_text(query = input, limit=3).objects]\n",
        "    messages = [\n",
        "    {\n",
        "        \"role\": \"user\",\n",
        "        \"content\": \"Based on the given context: {context} \\n\\n Answer the following question: {question}\".format(context=context, question=input)\n",
        "    },\n",
        "    ]\n",
        "    output = await achat(messages, model=\"gpt-4o\")\n",
        "    return output"
      ],
      "metadata": {
        "id": "S3oJUcHF7IhA"
      },
      "execution_count": 11,
      "outputs": []
    },
    {
      "cell_type": "code",
      "source": [
        "response = await classic_rag(\"What do you know about Weaviate\")\n",
        "print(response)"
      ],
      "metadata": {
        "colab": {
          "base_uri": "https://localhost:8080/"
        },
        "id": "6Cv88Dv883ST",
        "outputId": "a8617e0e-29b9-4dce-ef01-dd45de748b55"
      },
      "execution_count": 12,
      "outputs": [
        {
          "output_type": "stream",
          "name": "stdout",
          "text": [
            "Based on the provided context, Weaviate is a corporation involved in multiple partnership agreements with OpenAI. Here are some details about Weaviate from the context:\n",
            "\n",
            "1. **Location and Legal Organization**:\n",
            "   - In the first agreement dated March 15, 2022, Weaviate is described as a corporation organized under the laws of the State of Delaware, with its principal place of business at 123 Innovation Drive, Wilmington, DE.\n",
            "   - In the second agreement dated April 5, 2023, Weaviate is located at 123 Innovation Drive, Tech City.\n",
            "   - In the third agreement dated November 15, 2023, Weaviate is described as a corporation organized under the laws of the state of California, with its principal office located at 123 Innovation Drive, San Francisco, CA.\n",
            "\n",
            "2. **Partnerships with OpenAI**:\n",
            "   - Weaviate has entered into multiple partnership agreements with OpenAI to collaborate on various projects, particularly in the field of artificial intelligence.\n",
            "   - The agreements outline financial contributions, responsibilities, and profit-sharing arrangements between Weaviate and OpenAI.\n",
            "\n",
            "3. **Responsibilities and Contributions**:\n",
            "   - In the agreements, Weaviate is responsible for project management, client relations, marketing, and promotion of joint projects.\n",
            "   - Weaviate has made financial contributions to the partnerships, with specific amounts mentioned in each agreement.\n",
            "\n",
            "4. **Duration and Termination**:\n",
            "   - The agreements have specified durations, typically two to three years, with provisions for early termination upon written notice.\n",
            "\n",
            "5. **Representation**:\n",
            "   - Jane Doe and Johnathan Smith are mentioned as representatives of Weaviate in different agreements.\n",
            "\n",
            "Overall, Weaviate appears to be an active participant in collaborative projects with OpenAI, focusing on AI-driven initiatives and sharing responsibilities and profits with its partner.\n"
          ]
        }
      ]
    },
    {
      "cell_type": "markdown",
      "source": [
        "## Graph RAG\n",
        "\n",
        "### Build a Graph with Neo4J\n"
      ],
      "metadata": {
        "id": "zzBnUF4bBYKG"
      }
    },
    {
      "cell_type": "code",
      "execution_count": 13,
      "metadata": {
        "id": "TKTTyhgzT16d"
      },
      "outputs": [],
      "source": [
        "import os\n",
        "from getpass import getpass\n",
        "\n",
        "from ms_graphrag_neo4j import MsGraphRAG\n",
        "from neo4j import GraphDatabase\n",
        "import pandas as pd\n",
        "\n",
        "# Use Neo4j Sandbox - Blank Project https://sandbox.neo4j.com/\n",
        "\n",
        "os.environ[\"NEO4J_URI\"]=\"bolt://52.207.220.65:7687\"\n",
        "os.environ[\"NEO4J_USERNAME\"]=\"neo4j\"\n",
        "os.environ[\"NEO4J_PASSWORD\"]=\"dives-platform-eligibility\""
      ]
    },
    {
      "cell_type": "code",
      "source": [
        "driver = GraphDatabase.driver(\n",
        "    os.environ[\"NEO4J_URI\"],\n",
        "    auth=(os.environ[\"NEO4J_USERNAME\"], os.environ[\"NEO4J_PASSWORD\"]),\n",
        "    #notifications_min_severity=\"OFF\",\n",
        ")\n",
        "ms_graph = MsGraphRAG(driver=driver, model=\"gpt-4o\", max_workers=10)"
      ],
      "metadata": {
        "id": "kYI-du6JUI00"
      },
      "execution_count": 14,
      "outputs": []
    },
    {
      "cell_type": "code",
      "source": [
        "import pandas as pd\n",
        "\n",
        "# Login using e.g. `huggingface-cli login` to access this dataset\n",
        "df = pd.read_parquet(\"hf://datasets/weaviate/agents/query-agent/financial-contracts/0001.parquet\")\n",
        "df.head()"
      ],
      "metadata": {
        "id": "IkgiLkpyua2D"
      },
      "execution_count": null,
      "outputs": []
    },
    {
      "cell_type": "code",
      "source": [
        "texts = [el['contract_text'] for el in df['properties']]\n",
        "texts[:2]"
      ],
      "metadata": {
        "colab": {
          "base_uri": "https://localhost:8080/"
        },
        "id": "sB0MwT0X5cIJ",
        "outputId": "7af04b30-34a5-475f-9033-41408f04b724"
      },
      "execution_count": 16,
      "outputs": [
        {
          "output_type": "execute_result",
          "data": {
            "text/plain": [
              "['PARTNERSHIP AGREEMENT\\n\\nThis Partnership Agreement (\"Agreement\") is made and entered into as of the 15th day of March, 2023, by and between Weaviate, a company registered in the State of California, and OpenAI, a research organization based in San Francisco, California.\\n\\n1. Purpose\\nThe parties agree to establish a partnership to collaborate on artificial intelligence research and development, sharing resources and expertise.\\n\\n2. Contributions\\nWeaviate shall contribute technology resources valued at $112.85 and staff time equivalent to a monetary value of $550.09. OpenAI shall contribute its research expertise and a project management team valued at $98.14.\\n\\n3. Profit Sharing\\nThe net profits generated from joint projects shall be distributed as follows: Weaviate shall receive 60% and OpenAI shall receive 40%.\\n\\n4. Duration\\nThis Agreement shall commence on the date hereof and shall continue in effect for a period of three (3) years, unless terminated earlier in accordance with the provisions herein.\\n\\n5. Termination\\nEither party may terminate this Agreement with a written notice of thirty (30) days. Upon termination, the parties shall settle any outstanding financial obligations.\\n\\nIN WITNESS WHEREOF, the parties hereto have executed this Partnership Agreement as of the date first above written.\\n\\nWeaviate\\n___________________________\\nMark Robson, CEO\\n\\nOpenAI\\n___________________________\\nDanny Williams, Director',\n",
              " 'LOAN AGREEMENT\\n\\nThis Loan Agreement (\"Agreement\") is made and entered into as of the 15th day of March, 2023, by and between Weaviate, a corporation organized and existing under the laws of the State, with a principal office located at 123 Innovation Drive, Tech City, and Mark Robson, an individual residing at 456 Creativity Lane, Idea Town.\\n\\n1. LOAN AMOUNT: Weaviate agrees to loan Mark Robson the total amount of $342.00 (Three Hundred Forty-Two Dollars).\\n\\n2. INTEREST RATE: The loan shall bear an interest rate of 2.68% per annum, calculated on the outstanding balance.\\n\\n3. REPAYMENT: The total amount, including interest, shall be repaid in full within a period of three years from the date of this Agreement. Payments shall be made monthly, with the first payment due on April 15, 2023.\\n\\n4. DEFAULT: In the event of default, the borrower agrees that Weaviate may demand immediate repayment of the entire unpaid balance and accrued interest.\\n\\n5. GOVERNING LAW: This Agreement shall be governed by and construed in accordance with the laws of the State.\\n\\nIN WITNESS WHEREOF, the parties hereto have executed this Loan Agreement as of the date first above written.\\n\\nWeaviate: ____________________  \\nAuthorized Signature\\n\\nMark Robson: __________________  \\nBorrower\\'s Signature']"
            ]
          },
          "metadata": {},
          "execution_count": 16
        }
      ]
    },
    {
      "cell_type": "markdown",
      "source": [
        "### Extract Relevant Entities\n",
        "\n",
        "Next, we will start extracting relevant entities and relations between these entities that we might be interested in."
      ],
      "metadata": {
        "id": "FVzpKJViBiJT"
      }
    },
    {
      "cell_type": "code",
      "source": [
        "allowed_entities = [\"Person\", \"Location\", \"Item\", \"Property\", \"Meaning\", \"Thought\", \"Object\", \"Subject\", \"Event\", \"WorkOfArt\"]\n",
        "\n",
        "await ms_graph.extract_nodes_and_rels(texts, allowed_entities)"
      ],
      "metadata": {
        "colab": {
          "base_uri": "https://localhost:8080/",
          "height": 53
        },
        "id": "7TuxXPv251Ia",
        "outputId": "0b9ac964-586a-4cc4-da15-59d971454188"
      },
      "execution_count": 17,
      "outputs": [
        {
          "output_type": "stream",
          "name": "stderr",
          "text": [
            "Extracting nodes & relationships: 100%|██████████| 100/100 [00:34<00:00,  2.87it/s]\n"
          ]
        },
        {
          "output_type": "execute_result",
          "data": {
            "text/plain": [
              "'Successfuly extracted and imported 274 relationships'"
            ],
            "application/vnd.google.colaboratory.intrinsic+json": {
              "type": "string"
            }
          },
          "metadata": {},
          "execution_count": 17
        }
      ]
    },
    {
      "cell_type": "markdown",
      "source": [
        "### Summarize Nodes and Communities"
      ],
      "metadata": {
        "id": "j1wAsUfIBrGc"
      }
    },
    {
      "cell_type": "code",
      "source": [
        "await ms_graph.summarize_nodes_and_rels()"
      ],
      "metadata": {
        "colab": {
          "base_uri": "https://localhost:8080/",
          "height": 70
        },
        "id": "_ZlhpN9E6cNO",
        "outputId": "85d52a58-cb30-43d0-aa77-1523fb79b32b"
      },
      "execution_count": 18,
      "outputs": [
        {
          "output_type": "stream",
          "name": "stderr",
          "text": [
            "Summarizing nodes: 100%|██████████| 33/33 [00:13<00:00,  2.42it/s]\n",
            "Summarizing relationships: 100%|██████████| 33/33 [00:08<00:00,  3.87it/s]\n"
          ]
        },
        {
          "output_type": "execute_result",
          "data": {
            "text/plain": [
              "'Successfuly summarized nodes and relationships'"
            ],
            "application/vnd.google.colaboratory.intrinsic+json": {
              "type": "string"
            }
          },
          "metadata": {},
          "execution_count": 18
        }
      ]
    },
    {
      "cell_type": "code",
      "source": [
        "await ms_graph.summarize_communities()"
      ],
      "metadata": {
        "colab": {
          "base_uri": "https://localhost:8080/",
          "height": 209
        },
        "id": "L1do4-EX7AAL",
        "outputId": "707af976-9fc7-4799-84e2-b51d7cbc7477"
      },
      "execution_count": 21,
      "outputs": [
        {
          "output_type": "stream",
          "name": "stdout",
          "text": [
            "Leiden algorithm identified 1 community levels with 3 communities on the last level.\n"
          ]
        },
        {
          "output_type": "stream",
          "name": "stderr",
          "text": [
            "\n",
            "\n",
            "Summarizing communities:   0%|          | 0/3 [00:00<?, ?it/s]\u001b[A\u001b[A\n",
            "\n",
            "Summarizing communities:  33%|███▎      | 1/3 [00:09<00:18,  9.19s/it]\u001b[A\u001b[A\n",
            "\n",
            "Summarizing communities:  67%|██████▋   | 2/3 [00:10<00:04,  4.57s/it]\u001b[A\u001b[A\n",
            "\n",
            "Summarizing communities: 100%|██████████| 3/3 [00:13<00:00,  4.41s/it]\n"
          ]
        },
        {
          "output_type": "execute_result",
          "data": {
            "text/plain": [
              "'Generated 3 community summaries'"
            ],
            "application/vnd.google.colaboratory.intrinsic+json": {
              "type": "string"
            }
          },
          "metadata": {},
          "execution_count": 21
        }
      ]
    },
    {
      "cell_type": "code",
      "source": [
        "entities = ms_graph.query(\"\"\"\n",
        "MATCH (e:__Entity__)\n",
        "RETURN e.name AS entity_id, e.summary AS entity_summary\n",
        "\"\"\")"
      ],
      "metadata": {
        "id": "ayWjeNVv7JEy"
      },
      "execution_count": 22,
      "outputs": []
    },
    {
      "cell_type": "code",
      "source": [
        "entities[:2]"
      ],
      "metadata": {
        "id": "PvgvNfY88A77",
        "outputId": "b18546dc-379c-4ba2-9a3b-fde8a1493895",
        "colab": {
          "base_uri": "https://localhost:8080/"
        }
      },
      "execution_count": 23,
      "outputs": [
        {
          "output_type": "execute_result",
          "data": {
            "text/plain": [
              "[{'entity_id': 'WEAVIATE',\n",
              "  'entity_summary': \"Weaviate is a corporation organized under the laws of both the State of California and the State of Delaware, with its principal place of business primarily located in San Francisco, CA, and additional offices at 123 Innovation Drive, Tech City, CA 90210, and 123 Tech Lane, Silicon Valley, CA 94043. The company is involved in a wide range of activities, including providing consulting, software development, data analysis, cloud storage, technical support, and project management services. Weaviate is actively engaged in partnerships to develop innovative AI solutions and advanced data processing technologies, contributing resources and expertise to these collaborations.\\n\\nThe organization acts as both a lessor and a lessee in various lease agreements, and it is involved in multiple business relationships under Non-Disclosure Agreements. Weaviate also participates in sales and purchase order agreements, acting as both a buyer and a seller, and is involved in loan agreements as a lender. The company is responsible for marketing, promotion, and project management in its partnerships and provides services to clients such as OpenAI.\\n\\nWeaviate's involvement in these diverse activities highlights its role as a key player in the technology and AI sectors, leveraging its expertise to drive innovation and support its clients' needs.\"},\n",
              " {'entity_id': 'MARK ROBSON',\n",
              "  'entity_summary': \"Mark Robson is a multifaceted professional with diverse roles and responsibilities across various organizations. He is prominently associated with Weaviate, where he is employed as a Software Engineer. His residential addresses have been noted in several locations, including Los Angeles, CA, San Francisco, CA, and Springfield, IL, among others. In addition to his role at Weaviate, Mark Robson is also the CEO of Weaviate, indicating a significant leadership position within the company.\\n\\nFurthermore, Mark Robson is actively involved with OpenAI, serving as the Director and an authorized representative. He has executed partnership agreements and is the authorized signatory for OpenAI in various capacities. His involvement with OpenAI extends to being the primary contact person for purchase orders and partnership agreements.\\n\\nMark Robson is also engaged in several contractual agreements, including acting as a lessee in lease agreements, a borrower in loan agreements, and a buyer in sales agreements. He is responsible for maintaining leased premises and repaying loans with interest over specified periods. Additionally, he is involved in service agreements with Weaviate, both as a client and as a recipient of invoices for services rendered.\\n\\nOverall, Mark Robson's professional landscape is characterized by his significant roles in both Weaviate and OpenAI, his involvement in various legal and business agreements, and his presence in multiple locations, reflecting a dynamic and influential career.\"}]"
            ]
          },
          "metadata": {},
          "execution_count": 23
        }
      ]
    },
    {
      "cell_type": "markdown",
      "source": [
        "### Write the Entities to Weaviate"
      ],
      "metadata": {
        "id": "n105cc-_B9bN"
      }
    },
    {
      "cell_type": "code",
      "source": [
        "from weaviate.classes.config import Configure\n",
        "\n",
        "#client.collections.delete(\"Entities\")\n",
        "client.collections.create(\n",
        "    \"Entities\",\n",
        "    description=\"A dataset of entities appearing in the financial contracts between indivicuals and/or companies, as well as information on the type of contract and who has authored them.\",\n",
        "    vectorizer_config=Configure.Vectorizer.text2vec_weaviate(),\n",
        ")"
      ],
      "metadata": {
        "colab": {
          "base_uri": "https://localhost:8080/"
        },
        "id": "Q8iy4rO3qQ0F",
        "outputId": "d71ed661-ec93-4aa0-8a3a-369cf61736ed"
      },
      "execution_count": 25,
      "outputs": [
        {
          "output_type": "execute_result",
          "data": {
            "text/plain": [
              "<weaviate.collections.collection.sync.Collection at 0x7a71e4142510>"
            ]
          },
          "metadata": {},
          "execution_count": 25
        }
      ]
    },
    {
      "cell_type": "code",
      "source": [
        "from datasets import IterableDataset\n",
        "\n",
        "# Define a simple generator\n",
        "def list_generator(data):\n",
        "    for item in data:\n",
        "        yield item\n",
        "\n",
        "# Create the IterableDataset\n",
        "entities_dataset = IterableDataset.from_generator(list_generator, gen_kwargs={\"data\": entities})"
      ],
      "metadata": {
        "id": "4TG2awNzqYpA"
      },
      "execution_count": 26,
      "outputs": []
    },
    {
      "cell_type": "code",
      "source": [
        "entities_collection = client.collections.get(\"Entities\")\n",
        "\n",
        "with entities_collection.batch.dynamic() as batch:\n",
        "    for item in entities_dataset:\n",
        "        batch.add_object(properties=item)"
      ],
      "metadata": {
        "id": "fCDnGfGXrKUd"
      },
      "execution_count": 28,
      "outputs": []
    },
    {
      "cell_type": "code",
      "source": [
        "from neo4j_graphrag.retrievers import WeaviateNeo4jRetriever\n",
        "\n",
        "retrieval_query = \"\"\"\n",
        "    WITH collect(node) as nodes\n",
        "WITH collect {\n",
        "    UNWIND nodes as n\n",
        "    MATCH (n)<-[:MENTIONS]->(c:__Chunk__)\n",
        "    WITH c, count(distinct n) as freq\n",
        "    RETURN c.text AS chunkText\n",
        "    ORDER BY freq DESC\n",
        "    LIMIT 3\n",
        "} AS text_mapping,\n",
        "collect {\n",
        "    UNWIND nodes as n\n",
        "    MATCH (n)-[:IN_COMMUNITY*]->(c:__Community__)\n",
        "    WHERE c.summary IS NOT NULL\n",
        "    WITH c, c.rating as rank\n",
        "    RETURN c.summary\n",
        "    ORDER BY rank DESC\n",
        "    LIMIT 3\n",
        "} AS report_mapping,\n",
        "collect {\n",
        "    UNWIND nodes as n\n",
        "    MATCH (n)-[r:SUMMARIZED_RELATIONSHIP]-(m)\n",
        "    WHERE m IN nodes\n",
        "    RETURN r.summary AS descriptionText\n",
        "    LIMIT 3\n",
        "} as insideRels,\n",
        "collect {\n",
        "    UNWIND nodes as n\n",
        "    RETURN n.summary AS descriptionText\n",
        "} as entities\n",
        "RETURN {Chunks: text_mapping, Reports: report_mapping,\n",
        "       Relationships: insideRels,\n",
        "       Entities: entities} AS output\n",
        "    \"\"\"\n",
        "\n",
        "retriever = WeaviateNeo4jRetriever(\n",
        "    driver=driver,\n",
        "    client=client,\n",
        "    collection=\"Entities\",\n",
        "    id_property_external=\"entity_id\",\n",
        "    id_property_neo4j=\"name\",\n",
        "    retrieval_query=retrieval_query\n",
        ")"
      ],
      "metadata": {
        "id": "tEmPiLVdr8ao"
      },
      "execution_count": 29,
      "outputs": []
    },
    {
      "cell_type": "code",
      "source": [
        "async def hybrid_local_search_rag(input: str) -> str:\n",
        "    context = [str(el[1]) for el in retriever.search(query_text=input, top_k=3)]\n",
        "    messages = [\n",
        "    {\n",
        "        \"role\": \"user\",\n",
        "        \"content\": \"Based on the given context: {context} \\n\\n Answer the following question: {question}\".format(context=context, question=input)\n",
        "    },\n",
        "    ]\n",
        "    output = await achat(messages, model=\"gpt-4o\")\n",
        "    return output"
      ],
      "metadata": {
        "id": "VszQsBQ3v00Z"
      },
      "execution_count": 30,
      "outputs": []
    },
    {
      "cell_type": "code",
      "source": [
        "response = await hybrid_local_search_rag(input=\"What do you know about Weaviate\")\n",
        "print(response)"
      ],
      "metadata": {
        "colab": {
          "base_uri": "https://localhost:8080/"
        },
        "id": "EmgyW2XuwC0C",
        "outputId": "8c46af34-9c68-4707-f7e0-d88f45adbd34"
      },
      "execution_count": 31,
      "outputs": [
        {
          "output_type": "stream",
          "name": "stdout",
          "text": [
            "Weaviate is a corporation organized under the laws of both the State of California and the State of Delaware. Its principal place of business is primarily located in San Francisco, CA, with additional offices at 123 Innovation Drive, Tech City, CA, and 123 Tech Lane, Silicon Valley, CA. The company is involved in a wide range of activities, including consulting, software development, data analysis, cloud storage, technical support, and project management services. Weaviate is actively engaged in partnerships to develop innovative AI solutions and advanced data processing technologies, contributing resources and expertise to these collaborations.\n",
            "\n",
            "The organization acts as both a lessor and a lessee in various lease agreements and is involved in multiple business relationships under Non-Disclosure Agreements. Weaviate also participates in sales and purchase order agreements, acting as both a buyer and a seller, and is involved in loan agreements as a lender. The company is responsible for marketing, promotion, and project management in its partnerships and provides services to clients such as OpenAI.\n",
            "\n",
            "Weaviate's involvement in these diverse activities highlights its role as a key player in the technology and AI sectors, leveraging its expertise to drive innovation and support its clients' needs. Additionally, Weaviate's principal office is located in Wilmington, DE.\n"
          ]
        }
      ]
    },
    {
      "cell_type": "code",
      "source": [],
      "metadata": {
        "id": "Mf-S6xR19t78"
      },
      "execution_count": null,
      "outputs": []
    }
  ]
}
