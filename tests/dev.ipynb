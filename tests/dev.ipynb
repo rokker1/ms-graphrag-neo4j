{
 "cells": [
  {
   "cell_type": "code",
   "execution_count": 1,
   "id": "e57d11d7-c3b8-4c3f-87d8-2a34397952d1",
   "metadata": {},
   "outputs": [],
   "source": [
    "from ms_graphrag_neo4j import MsGraphRAG"
   ]
  },
  {
   "cell_type": "code",
   "execution_count": 2,
   "id": "874a900b-b1fa-4e90-91b5-fc50af8053c1",
   "metadata": {},
   "outputs": [],
   "source": [
    "import os\n",
    "\n",
    "os.environ[\"OPENAI_BASE_URL\"]=\"http://87.242.104.103:1234/v1\"\n",
    "os.environ[\"OPENAI_API_KEY\"]=\"some_key\"\n",
    "os.environ[\"NEO4J_URI\"]=\"neo4j+s://367ae45f.databases.neo4j.io\"\n",
    "os.environ[\"NEO4J_USERNAME\"]=\"neo4j\"\n",
    "os.environ[\"NEO4J_PASSWORD\"]=\"jgkvFCzzLlWTSq82kXc7-Vdl9wECVEJ-nxPD9DDF5F4\""
   ]
  },
  {
   "cell_type": "code",
   "execution_count": 3,
   "id": "5e39e816-fb7e-4aa2-9943-f50af5a516a7",
   "metadata": {},
   "outputs": [],
   "source": [
    "from neo4j import GraphDatabase"
   ]
  },
  {
   "cell_type": "code",
   "execution_count": 4,
   "id": "0c5e397b-5ebe-4671-b64b-ddb3cf5440dc",
   "metadata": {},
   "outputs": [],
   "source": [
    "driver = GraphDatabase.driver(os.environ[\"NEO4J_URI\"], auth=(os.environ[\"NEO4J_USERNAME\"], os.environ[\"NEO4J_PASSWORD\"]))"
   ]
  },
  {
   "cell_type": "code",
   "execution_count": 5,
   "id": "cad48c77-34c2-4879-b19a-3a8cfceef316",
   "metadata": {},
   "outputs": [],
   "source": [
    "ms_graph = MsGraphRAG(driver=driver, model='qwen2:72b')"
   ]
  },
  {
   "cell_type": "code",
   "execution_count": 6,
   "id": "88583a09-0465-4017-a967-1a1feee1cb8f",
   "metadata": {},
   "outputs": [
    {
     "name": "stderr",
     "output_type": "stream",
     "text": [
      "Extracting nodes & relationships: 100%|██████████| 3/3 [00:31<00:00, 10.42s/it]\n"
     ]
    },
    {
     "data": {
      "text/plain": [
       "'Successfuly extracted and imported 2 relationships'"
      ]
     },
     "execution_count": 6,
     "metadata": {},
     "output_type": "execute_result"
    }
   ],
   "source": [
    "await ms_graph.extract_nodes_and_rels([\"Tomaz works for Neo4j\", \"Tomaz lives in Grosuplje\", \"Tomaz went to school in Grosuplje\"], [\"Person\", \"Organization\", \"Location\"])"
   ]
  },
  {
   "cell_type": "code",
   "execution_count": 7,
   "id": "7a6aeb25-70a8-4132-8556-e7b7e36de199",
   "metadata": {},
   "outputs": [
    {
     "name": "stderr",
     "output_type": "stream",
     "text": [
      "Summarizing nodes: 100%|██████████| 2/2 [00:00<00:00,  2.47it/s]\n",
      "Summarizing relationships: 0it [00:00, ?it/s]\n"
     ]
    },
    {
     "data": {
      "text/plain": [
       "'Successfuly summarized nodes and relationships'"
      ]
     },
     "execution_count": 7,
     "metadata": {},
     "output_type": "execute_result"
    }
   ],
   "source": [
    "await ms_graph.summarize_nodes_and_rels()"
   ]
  },
  {
   "cell_type": "code",
   "execution_count": 8,
   "id": "4769d5b0-7d27-4b91-8fee-49de179103c7",
   "metadata": {
    "scrolled": true
   },
   "outputs": [
    {
     "name": "stdout",
     "output_type": "stream",
     "text": [
      "Leiden algorithm identified 1 community levels with 1 communities on the last level.\n"
     ]
    },
    {
     "name": "stderr",
     "output_type": "stream",
     "text": [
      "Summarizing communities: 100%|██████████| 1/1 [00:05<00:00,  5.59s/it]\n"
     ]
    },
    {
     "data": {
      "text/plain": [
       "'Generated 1 community summaries'"
      ]
     },
     "execution_count": 8,
     "metadata": {},
     "output_type": "execute_result"
    }
   ],
   "source": [
    "await ms_graph.summarize_communities()"
   ]
  },
  {
   "cell_type": "code",
   "execution_count": null,
   "id": "80e35fc6-85ef-4c82-9b31-add6b2592756",
   "metadata": {},
   "outputs": [],
   "source": []
  }
 ],
 "metadata": {
  "kernelspec": {
   "display_name": "Python 3 (ipykernel)",
   "language": "python",
   "name": "python3"
  },
  "language_info": {
   "codemirror_mode": {
    "name": "ipython",
    "version": 3
   },
   "file_extension": ".py",
   "mimetype": "text/x-python",
   "name": "python",
   "nbconvert_exporter": "python",
   "pygments_lexer": "ipython3",
   "version": "3.11.5"
  }
 },
 "nbformat": 4,
 "nbformat_minor": 5
}
